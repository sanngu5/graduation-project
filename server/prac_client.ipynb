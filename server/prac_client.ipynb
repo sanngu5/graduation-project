{
 "cells": [
  {
   "cell_type": "code",
   "execution_count": 1,
   "id": "e9a22bd8",
   "metadata": {},
   "outputs": [
    {
     "name": "stdout",
     "output_type": "stream",
     "text": [
      "time : 45.404934883117676\n",
      "\n",
      "response:\n",
      "[[[[0.3682533  0.31898856 0.24659023 ... 0.85196733 0.8498538\n",
      "    0.8343174 ]\n",
      "   [0.32821155 0.28395164 0.23569486 ... 0.8483913  0.85187095\n",
      "    0.8486568 ]\n",
      "   [0.25353596 0.23911947 0.22387382 ... 0.8292409  0.83026946\n",
      "    0.82900447]\n",
      "   ...\n",
      "   [0.51358205 0.51745176 0.52289736 ... 0.6425556  0.6222337\n",
      "    0.5121267 ]\n",
      "   [0.48502618 0.4920782  0.5041001  ... 0.65589607 0.62035894\n",
      "    0.4990097 ]\n",
      "   [0.4631762  0.4756977  0.4932507  ... 0.6540123  0.62460047\n",
      "    0.5070504 ]]\n",
      "\n",
      "  [[0.34869236 0.29944903 0.22552821 ... 0.7991066  0.80339944\n",
      "    0.79746664]\n",
      "   [0.3034849  0.26091847 0.21179065 ... 0.800448   0.80326545\n",
      "    0.7976135 ]\n",
      "   [0.23319927 0.21792644 0.20397738 ... 0.78337103 0.78200424\n",
      "    0.78122497]\n",
      "   ...\n",
      "   [0.31778085 0.326448   0.32834095 ... 0.55875075 0.534254\n",
      "    0.42160374]\n",
      "   [0.30266148 0.30466974 0.30990386 ... 0.5718638  0.5407201\n",
      "    0.42139578]\n",
      "   [0.29250666 0.2921418  0.2987335  ... 0.57592726 0.5470107\n",
      "    0.4511057 ]]\n",
      "\n",
      "  [[0.37539113 0.3273158  0.2535501  ... 0.78321207 0.7804341\n",
      "    0.77854836]\n",
      "   [0.33044448 0.28891087 0.23962477 ... 0.78106296 0.77599454\n",
      "    0.78004664]\n",
      "   [0.2580812  0.24456897 0.229206   ... 0.76089525 0.7585326\n",
      "    0.7616086 ]\n",
      "   ...\n",
      "   [0.2744251  0.2830978  0.28405368 ... 0.4835075  0.46894008\n",
      "    0.35148543]\n",
      "   [0.25684017 0.26509637 0.268569   ... 0.5017938  0.4711492\n",
      "    0.34736544]\n",
      "   [0.2413249  0.2490316  0.25395292 ... 0.49689698 0.4763218\n",
      "    0.37382668]]]]\n"
     ]
    }
   ],
   "source": [
    "from __future__ import print_function\n",
    "import io\n",
    "import numpy as np\n",
    "import zlib\n",
    "import requests\n",
    "import time\n",
    "\n",
    "\n",
    "# ## CONFIG\n",
    "\n",
    "\n",
    "\n",
    "\n",
    "# ## HELPERS\n",
    "\n",
    "def compress_nparr(nparr):\n",
    "    \"\"\"\n",
    "    Returns the given numpy array as compressed bytestring,\n",
    "    the uncompressed and the compressed byte size.\n",
    "    \"\"\"\n",
    "    bytestream = io.BytesIO()\n",
    "    np.save(bytestream, nparr)\n",
    "    uncompressed = bytestream.getvalue()\n",
    "    compressed = zlib.compress(uncompressed)\n",
    "    return compressed, len(uncompressed), len(compressed)\n",
    "\n",
    "def uncompress_nparr(bytestring):\n",
    "    \"\"\"\n",
    "    \"\"\"\n",
    "    return np.load(io.BytesIO(zlib.decompress(bytestring)))\n",
    "\n",
    "\n",
    "# ## MAIN CLIENT ROUTINE\n",
    "\n",
    "url =  \"http://127.0.0.1:5000/inference\"\n",
    "while True:\n",
    "    #raw_input(\"\\n\\npress return...\")\n",
    "    arr = np.random.rand(3,3)\n",
    "    compressed, u_sz, c_sz = compress_nparr(arr)##아무거나 보내보기 위해\n",
    "    \n",
    "    start = time.time()\n",
    "    resp = requests.post(url, data=compressed,\n",
    "                         headers={'Content-Type': 'application/octet-stream'})\n",
    "    print(\"time :\", time.time() - start)\n",
    "    #\n",
    "    print(\"\\nresponse:\")\n",
    "    data = uncompress_nparr(resp.content)\n",
    "    print(data)\n",
    "    break"
   ]
  },
  {
   "cell_type": "code",
   "execution_count": null,
   "id": "c9d094e2",
   "metadata": {},
   "outputs": [],
   "source": []
  }
 ],
 "metadata": {
  "kernelspec": {
   "display_name": "Python 3.9.12 ('client')",
   "language": "python",
   "name": "python3"
  },
  "language_info": {
   "codemirror_mode": {
    "name": "ipython",
    "version": 3
   },
   "file_extension": ".py",
   "mimetype": "text/x-python",
   "name": "python",
   "nbconvert_exporter": "python",
   "pygments_lexer": "ipython3",
   "version": "3.9.12"
  },
  "vscode": {
   "interpreter": {
    "hash": "857bccfe3b86e51b34efe2b8f430ce57d18330888f72dd948e643ca49e8fbebb"
   }
  }
 },
 "nbformat": 4,
 "nbformat_minor": 5
}
